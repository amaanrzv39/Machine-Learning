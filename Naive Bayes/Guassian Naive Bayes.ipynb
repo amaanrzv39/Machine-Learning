{
 "cells": [
  {
   "cell_type": "code",
   "execution_count": 218,
   "metadata": {},
   "outputs": [],
   "source": [
    "import pandas as pd\n",
    "import numpy as np\n",
    "from sklearn.model_selection import train_test_split\n",
    "from sklearn import datasets\n",
    "import os"
   ]
  },
  {
   "cell_type": "code",
   "execution_count": 685,
   "metadata": {},
   "outputs": [],
   "source": [
    "class GuassianNaiveBayes(object):\n",
    "    #alpha : smoothing factor\n",
    "    def __init__(self, aplha = 1):\n",
    "        self.aplha = aplha\n",
    "    \n",
    "    def fit(self, X_train, y_train):\n",
    "        self.X_train = X_train\n",
    "        self.y_train = y_train    \n",
    "    \n",
    "    def predict(self, X_test):\n",
    "        if len(X_test.shape) > 1:\n",
    "            predicted_labels = [self._predict(x) for x in X_test]\n",
    "        else:\n",
    "            predicted_labels = self._predict(X_test)\n",
    "        return predicted_labels\n",
    "    \n",
    "    def _predict(self, x): \n",
    "        probability = 0\n",
    "        #Iterate over each label in target variable\n",
    "        for label in set(self.y_train):\n",
    "            #Get probability of new instance x\n",
    "            p = 1\n",
    "            #Slice data for given label\n",
    "            rows = self.X_train[self.y_train==label]\n",
    "            #Iterate over each feature Xj\n",
    "            for j in range(len(x)):\n",
    "                Xj = rows[:,j]\n",
    "                p = p * self.normal_dist(x[j],np.mean(Xj), np.std(Xj))\n",
    "            p = p * (np.sum(self.y_train == label)/len(self.y_train))\n",
    "            #Find maximum probability among given labels\n",
    "            if p > probability:\n",
    "                probability = p\n",
    "                pred = label\n",
    "            #return label with max probability\n",
    "        #print(probability)\n",
    "        return pred \n",
    "    \n",
    "    def normal_dist(self,X,mean, sd):\n",
    "        exponent = np.exp(-(X - mean)**2/(2*sd**2))\n",
    "        return 1/(sd*np.sqrt(2*np.pi))*exponent\n",
    "    \n",
    "    "
   ]
  },
  {
   "cell_type": "code",
   "execution_count": 701,
   "metadata": {},
   "outputs": [],
   "source": [
    "df = datasets.load_iris()"
   ]
  },
  {
   "cell_type": "code",
   "execution_count": 702,
   "metadata": {},
   "outputs": [],
   "source": [
    "X = df.data\n",
    "y = df.target"
   ]
  },
  {
   "cell_type": "code",
   "execution_count": 703,
   "metadata": {},
   "outputs": [],
   "source": [
    "X_train, X_test, y_train, y_test = train_test_split(X, y, test_size = 0.3, random_state = 12)\n",
    "model = GuassianNaiveBayes()\n",
    "model.fit(X_train,y_train)\n",
    "y_pred = model.predict(X_test)\n"
   ]
  },
  {
   "cell_type": "code",
   "execution_count": 704,
   "metadata": {},
   "outputs": [
    {
     "name": "stdout",
     "output_type": "stream",
     "text": [
      "Accuracy :  0.9777777777777777\n"
     ]
    }
   ],
   "source": [
    "print(\"Accuracy : \", np.mean(y_test==y_pred))"
   ]
  }
 ],
 "metadata": {
  "kernelspec": {
   "display_name": "Python 3",
   "language": "python",
   "name": "python3"
  },
  "language_info": {
   "codemirror_mode": {
    "name": "ipython",
    "version": 3
   },
   "file_extension": ".py",
   "mimetype": "text/x-python",
   "name": "python",
   "nbconvert_exporter": "python",
   "pygments_lexer": "ipython3",
   "version": "3.6.8"
  }
 },
 "nbformat": 4,
 "nbformat_minor": 2
}
