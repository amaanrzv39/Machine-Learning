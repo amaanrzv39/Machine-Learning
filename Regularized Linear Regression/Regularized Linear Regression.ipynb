{
 "cells": [
  {
   "cell_type": "code",
   "execution_count": 1,
   "metadata": {},
   "outputs": [],
   "source": [
    "import numpy as np\n",
    "import pandas as pd\n",
    "import os\n",
    "import matplotlib.pyplot as plt"
   ]
  },
  {
   "cell_type": "code",
   "execution_count": 287,
   "metadata": {},
   "outputs": [],
   "source": [
    "os.chdir('E:/Data-Science/Python')"
   ]
  },
  {
   "cell_type": "markdown",
   "metadata": {},
   "source": [
    "<h3>NASA data set, obtained from a series of aerodynamic and acoustic tests of two and three-dimensional airfoil blade sections conducted in an anechoic wind tunnel.</h3>\n",
    "\n",
    "Attribute Information:\n",
    "\n",
    "This problem has the following inputs:\n",
    "1. Frequency, in Hertzs.\n",
    "2. Angle of attack, in degrees.\n",
    "3. Chord length, in meters.\n",
    "4. Free-stream velocity, in meters per second.\n",
    "5. Suction side displacement thickness, in meters.\n",
    "\n",
    "The only output is:\n",
    "6. Scaled sound pressure level, in decibels."
   ]
  },
  {
   "cell_type": "code",
   "execution_count": 288,
   "metadata": {
    "name": "John"
   },
   "outputs": [
    {
     "data": {
      "text/html": [
       "<div>\n",
       "<style scoped>\n",
       "    .dataframe tbody tr th:only-of-type {\n",
       "        vertical-align: middle;\n",
       "    }\n",
       "\n",
       "    .dataframe tbody tr th {\n",
       "        vertical-align: top;\n",
       "    }\n",
       "\n",
       "    .dataframe thead th {\n",
       "        text-align: right;\n",
       "    }\n",
       "</style>\n",
       "<table border=\"1\" class=\"dataframe\">\n",
       "  <thead>\n",
       "    <tr style=\"text-align: right;\">\n",
       "      <th></th>\n",
       "      <th>Frequency(Hz)</th>\n",
       "      <th>Angle of attack(degree)</th>\n",
       "      <th>chord length(m)</th>\n",
       "      <th>Free stream velocity</th>\n",
       "      <th>Suction side displacement thickness(m)</th>\n",
       "      <th>Sound Pressure levels(decibel)</th>\n",
       "    </tr>\n",
       "  </thead>\n",
       "  <tbody>\n",
       "    <tr>\n",
       "      <th>0</th>\n",
       "      <td>800</td>\n",
       "      <td>0.0</td>\n",
       "      <td>0.3048</td>\n",
       "      <td>71.3</td>\n",
       "      <td>0.002663</td>\n",
       "      <td>126.201</td>\n",
       "    </tr>\n",
       "    <tr>\n",
       "      <th>1</th>\n",
       "      <td>1000</td>\n",
       "      <td>0.0</td>\n",
       "      <td>0.3048</td>\n",
       "      <td>71.3</td>\n",
       "      <td>0.002663</td>\n",
       "      <td>125.201</td>\n",
       "    </tr>\n",
       "    <tr>\n",
       "      <th>2</th>\n",
       "      <td>1250</td>\n",
       "      <td>0.0</td>\n",
       "      <td>0.3048</td>\n",
       "      <td>71.3</td>\n",
       "      <td>0.002663</td>\n",
       "      <td>125.951</td>\n",
       "    </tr>\n",
       "    <tr>\n",
       "      <th>3</th>\n",
       "      <td>1600</td>\n",
       "      <td>0.0</td>\n",
       "      <td>0.3048</td>\n",
       "      <td>71.3</td>\n",
       "      <td>0.002663</td>\n",
       "      <td>127.591</td>\n",
       "    </tr>\n",
       "    <tr>\n",
       "      <th>4</th>\n",
       "      <td>2000</td>\n",
       "      <td>0.0</td>\n",
       "      <td>0.3048</td>\n",
       "      <td>71.3</td>\n",
       "      <td>0.002663</td>\n",
       "      <td>127.461</td>\n",
       "    </tr>\n",
       "  </tbody>\n",
       "</table>\n",
       "</div>"
      ],
      "text/plain": [
       "   Frequency(Hz)  Angle of attack(degree)  chord length(m)  \\\n",
       "0            800                      0.0           0.3048   \n",
       "1           1000                      0.0           0.3048   \n",
       "2           1250                      0.0           0.3048   \n",
       "3           1600                      0.0           0.3048   \n",
       "4           2000                      0.0           0.3048   \n",
       "\n",
       "   Free stream velocity  Suction side displacement thickness(m)  \\\n",
       "0                  71.3                                0.002663   \n",
       "1                  71.3                                0.002663   \n",
       "2                  71.3                                0.002663   \n",
       "3                  71.3                                0.002663   \n",
       "4                  71.3                                0.002663   \n",
       "\n",
       "   Sound Pressure levels(decibel)  \n",
       "0                         126.201  \n",
       "1                         125.201  \n",
       "2                         125.951  \n",
       "3                         127.591  \n",
       "4                         127.461  "
      ]
     },
     "execution_count": 288,
     "metadata": {},
     "output_type": "execute_result"
    }
   ],
   "source": [
    "df = pd.read_table('airfoil_self_noise.dat',header = None, \\\n",
    "    names = ['Frequency(Hz)', 'Angle of attack(degree)', 'chord length(m)', 'Free stream velocity', 'Suction side displacement thickness(m)', 'Sound Pressure levels(decibel)'])\n",
    "df.head()"
   ]
  },
  {
   "cell_type": "markdown",
   "metadata": {},
   "source": [
    "<h3>Create X and y matrices</h3>"
   ]
  },
  {
   "cell_type": "code",
   "execution_count": 289,
   "metadata": {},
   "outputs": [],
   "source": [
    "X = df.iloc[:,0:5]\n",
    "y = df.iloc[:,5]"
   ]
  },
  {
   "cell_type": "markdown",
   "metadata": {},
   "source": [
    "<h3>Normalize X matrix features</h3>"
   ]
  },
  {
   "cell_type": "code",
   "execution_count": 290,
   "metadata": {},
   "outputs": [
    {
     "data": {
      "text/html": [
       "<div>\n",
       "<style scoped>\n",
       "    .dataframe tbody tr th:only-of-type {\n",
       "        vertical-align: middle;\n",
       "    }\n",
       "\n",
       "    .dataframe tbody tr th {\n",
       "        vertical-align: top;\n",
       "    }\n",
       "\n",
       "    .dataframe thead th {\n",
       "        text-align: right;\n",
       "    }\n",
       "</style>\n",
       "<table border=\"1\" class=\"dataframe\">\n",
       "  <thead>\n",
       "    <tr style=\"text-align: right;\">\n",
       "      <th></th>\n",
       "      <th>Frequency(Hz)</th>\n",
       "      <th>Angle of attack(degree)</th>\n",
       "      <th>chord length(m)</th>\n",
       "      <th>Free stream velocity</th>\n",
       "      <th>Suction side displacement thickness(m)</th>\n",
       "    </tr>\n",
       "  </thead>\n",
       "  <tbody>\n",
       "    <tr>\n",
       "      <th>0</th>\n",
       "      <td>-0.105373</td>\n",
       "      <td>-0.305509</td>\n",
       "      <td>0.60219</td>\n",
       "      <td>0.516143</td>\n",
       "      <td>-0.14612</td>\n",
       "    </tr>\n",
       "    <tr>\n",
       "      <th>1</th>\n",
       "      <td>-0.095272</td>\n",
       "      <td>-0.305509</td>\n",
       "      <td>0.60219</td>\n",
       "      <td>0.516143</td>\n",
       "      <td>-0.14612</td>\n",
       "    </tr>\n",
       "    <tr>\n",
       "      <th>2</th>\n",
       "      <td>-0.082645</td>\n",
       "      <td>-0.305509</td>\n",
       "      <td>0.60219</td>\n",
       "      <td>0.516143</td>\n",
       "      <td>-0.14612</td>\n",
       "    </tr>\n",
       "    <tr>\n",
       "      <th>3</th>\n",
       "      <td>-0.064969</td>\n",
       "      <td>-0.305509</td>\n",
       "      <td>0.60219</td>\n",
       "      <td>0.516143</td>\n",
       "      <td>-0.14612</td>\n",
       "    </tr>\n",
       "    <tr>\n",
       "      <th>4</th>\n",
       "      <td>-0.044767</td>\n",
       "      <td>-0.305509</td>\n",
       "      <td>0.60219</td>\n",
       "      <td>0.516143</td>\n",
       "      <td>-0.14612</td>\n",
       "    </tr>\n",
       "  </tbody>\n",
       "</table>\n",
       "</div>"
      ],
      "text/plain": [
       "   Frequency(Hz)  Angle of attack(degree)  chord length(m)  \\\n",
       "0      -0.105373                -0.305509          0.60219   \n",
       "1      -0.095272                -0.305509          0.60219   \n",
       "2      -0.082645                -0.305509          0.60219   \n",
       "3      -0.064969                -0.305509          0.60219   \n",
       "4      -0.044767                -0.305509          0.60219   \n",
       "\n",
       "   Free stream velocity  Suction side displacement thickness(m)  \n",
       "0              0.516143                                -0.14612  \n",
       "1              0.516143                                -0.14612  \n",
       "2              0.516143                                -0.14612  \n",
       "3              0.516143                                -0.14612  \n",
       "4              0.516143                                -0.14612  "
      ]
     },
     "execution_count": 290,
     "metadata": {},
     "output_type": "execute_result"
    }
   ],
   "source": [
    "X = ((X - X.mean()) / (X.max() - X.min()))\n",
    "X.head()"
   ]
  },
  {
   "cell_type": "code",
   "execution_count": 291,
   "metadata": {},
   "outputs": [],
   "source": [
    "X = np.array(X)\n",
    "X = np.append(np.ones((len(y),1)), X, axis = 1)\n",
    "y = np.array(y).reshape(df.shape[0],1)"
   ]
  },
  {
   "cell_type": "markdown",
   "metadata": {},
   "source": [
    "<h3>Cost function and Gradient descent with regularization paramenter $\\lambda$</h3>"
   ]
  },
  {
   "cell_type": "code",
   "execution_count": 333,
   "metadata": {},
   "outputs": [],
   "source": [
    "def compute_costfunc(X, y, theta, lmbda = 0.01):\n",
    "    m = len(y)\n",
    "    h = np.dot(X, theta) #hypothesis, predicted value\n",
    "    return np.sum((h-y)**2)/(2*m) + lmbda*np.sum(theta**2) /(2*m)    "
   ]
  },
  {
   "cell_type": "code",
   "execution_count": 349,
   "metadata": {},
   "outputs": [],
   "source": [
    "def regularizedgradientdescent(x, y, theta, alpha, iterations, lmbda = 0.01):\n",
    "    m = len(y)\n",
    "    c = []\n",
    "    for _ in range(iterations):\n",
    "        descent = np.dot(X.T,np.dot(X, theta) - y)\n",
    "        theta_0 = (theta - ((alpha/m) * descent))[0]\n",
    "        theta_j = (theta*(1 - (alpha*lmbda)/m) - ((alpha/m) * descent))[1:]\n",
    "        theta = np.append(theta_0.reshape(1,1),theta_j,axis = 0)\n",
    "        c.append(compute_costfunc(X, y, theta, lmbda))\n",
    "    return c, theta"
   ]
  },
  {
   "cell_type": "code",
   "execution_count": 350,
   "metadata": {},
   "outputs": [],
   "source": [
    "theta = np.zeros((df.shape[1],1))"
   ]
  },
  {
   "cell_type": "code",
   "execution_count": 351,
   "metadata": {},
   "outputs": [
    {
     "name": "stdout",
     "output_type": "stream",
     "text": [
      "7815.786204458415\n"
     ]
    }
   ],
   "source": [
    "print(compute_costfunc(X, y, theta))"
   ]
  },
  {
   "cell_type": "markdown",
   "metadata": {},
   "source": [
    "<h4>Running gradient descent with different learning rates</h4>"
   ]
  },
  {
   "cell_type": "code",
   "execution_count": 352,
   "metadata": {},
   "outputs": [],
   "source": [
    "C_1, theta_1 = regularizedgradientdescent(X, y, theta, 0.01, 1500)\n",
    "C_2, theta_2 = regularizedgradientdescent(X, y, theta, 0.03, 1500)\n",
    "C_3, theta_3 = regularizedgradientdescent(X, y, theta, 0.3, 1500)\n",
    "C_4, theta_4 = regularizedgradientdescent(X, y, theta, 1, 1500)"
   ]
  },
  {
   "cell_type": "code",
   "execution_count": 353,
   "metadata": {},
   "outputs": [
    {
     "data": {
      "image/png": "[encoded data removed]",
      "text/plain": [
       "<Figure size 432x288 with 4 Axes>"
      ]
     },
     "metadata": {
      "needs_background": "light"
     },
     "output_type": "display_data"
    }
   ],
   "source": [
    "fig, ax = plt.subplots(2,2)\n",
    "ax[0,0].plot(C_1, label = '0.01', color = 'red')\n",
    "ax[0,1].plot(C_2, label = '0.03', color = 'blue')\n",
    "ax[1,0].plot(C_3, label = '0.3', color = 'yellow')\n",
    "ax[1,1].plot(C_4, label = '1', color = 'green')\n",
    "#plt.xlabel('Number of Iterations')\n",
    "#plt.ylabel('C (\\u03F4)')\n",
    "#plttitle('Gradient decent curve')\n",
    "#plt.xticks(np.arange(0,1500,50))\n",
    "#plt.yticks(np.arange(0,1500,50))\n",
    "fig.legend()\n",
    "plt.show()"
   ]
  }
 ],
 "metadata": {
  "kernelspec": {
   "display_name": "Python 3",
   "language": "python",
   "name": "python3"
  },
  "language_info": {
   "codemirror_mode": {
    "name": "ipython",
    "version": 3
   },
   "file_extension": ".py",
   "mimetype": "text/x-python",
   "name": "python",
   "nbconvert_exporter": "python",
   "pygments_lexer": "ipython3",
   "version": "3.6.8"
  }
 },
 "nbformat": 4,
 "nbformat_minor": 2
}
